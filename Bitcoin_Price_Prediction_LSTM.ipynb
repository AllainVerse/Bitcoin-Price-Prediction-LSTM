{
  "cells": [
    {
      "cell_type": "markdown",
      "metadata": {
        "id": "YuWZ7YwOySKq"
      },
      "source": [
        "Importing neccessary libraries"
      ]
    },
    {
      "cell_type": "code",
      "execution_count": 1,
      "metadata": {
        "id": "lF6XXnNNhDGG"
      },
      "outputs": [],
      "source": [
        "import pandas as pd\n",
        "import numpy as np\n",
        "import yfinance as yf\n",
        "from sklearn.model_selection import train_test_split\n",
        "from sklearn.preprocessing import MinMaxScaler\n",
        "import tensorflow as tf\n",
        "from tensorflow.keras.models import Sequential\n",
        "from tensorflow.keras.layers import Dense, LSTM\n",
        "import pandas as pd\n",
        "import matplotlib.pyplot as plt\n",
        "from sklearn.preprocessing import MinMaxScaler\n",
        "from sklearn.model_selection import train_test_split\n",
        "from tensorflow.keras.callbacks import EarlyStopping\n",
        "from tensorflow.keras.layers import Dropout\n",
        "import tensorflow as tf\n",
        "from tensorflow.keras.models import Sequential\n",
        "from tensorflow.keras.layers import Dense, LSTM, GRU, Conv1D, MaxPooling1D, Flatten, Dropout\n",
        "from tensorflow.keras.regularizers import l2"
      ]
    },
    {
      "cell_type": "markdown",
      "metadata": {
        "id": "Ea8AKVT5BS-I"
      },
      "source": [
        "Load Dataset"
      ]
    },
    {
      "cell_type": "markdown",
      "metadata": {
        "id": "vY7JinX6EnG5"
      },
      "source": [
        "We use dataset from Yahoo Finance."
      ]
    },
    {
      "cell_type": "code",
      "execution_count": 2,
      "metadata": {
        "colab": {
          "base_uri": "https://localhost:8080/"
        },
        "id": "UiQXzExW3wVn",
        "outputId": "7303d2d3-5af8-4a6f-daf6-e56f7846b7a7"
      },
      "outputs": [
        {
          "name": "stderr",
          "output_type": "stream",
          "text": [
            "\r[*********************100%***********************]  1 of 1 completed\n"
          ]
        }
      ],
      "source": [
        "data = yf.download('BTC-USD', start='2010-01-01', end='2024-10-22')"
      ]
    },
    {
      "cell_type": "markdown",
      "metadata": {
        "id": "dF1qViIYBZGg"
      },
      "source": [
        "Displays a portion of the data."
      ]
    },
    {
      "cell_type": "code",
      "execution_count": 3,
      "metadata": {
        "colab": {
          "base_uri": "https://localhost:8080/",
          "height": 237
        },
        "id": "Akev3TkyhxtA",
        "outputId": "b7075cc9-3c07-4a7e-8cf1-eb5f79b49ba8"
      },
      "outputs": [
        {
          "data": {
            "application/vnd.google.colaboratory.intrinsic+json": {
              "summary": "{\n  \"name\": \"data\",\n  \"rows\": 5,\n  \"fields\": [\n    {\n      \"column\": \"Date\",\n      \"properties\": {\n        \"dtype\": \"date\",\n        \"min\": \"2024-10-17 00:00:00\",\n        \"max\": \"2024-10-21 00:00:00\",\n        \"num_unique_values\": 5,\n        \"samples\": [\n          \"2024-10-18 00:00:00\",\n          \"2024-10-21 00:00:00\",\n          \"2024-10-19 00:00:00\"\n        ],\n        \"semantic_type\": \"\",\n        \"description\": \"\"\n      }\n    },\n    {\n      \"column\": \"Open\",\n      \"properties\": {\n        \"dtype\": \"number\",\n        \"std\": 644.4598851258137,\n        \"min\": 67419.109375,\n        \"max\": 69002.0,\n        \"num_unique_values\": 5,\n        \"samples\": [\n          67419.109375,\n          69002.0,\n          68418.9765625\n        ],\n        \"semantic_type\": \"\",\n        \"description\": \"\"\n      }\n    },\n    {\n      \"column\": \"High\",\n      \"properties\": {\n        \"dtype\": \"number\",\n        \"std\": 624.1953223124381,\n        \"min\": 67912.2109375,\n        \"max\": 69462.734375,\n        \"num_unique_values\": 5,\n        \"samples\": [\n          68969.75,\n          69462.734375,\n          68668.0078125\n        ],\n        \"semantic_type\": \"\",\n        \"description\": \"\"\n      }\n    },\n    {\n      \"column\": \"Low\",\n      \"properties\": {\n        \"dtype\": \"number\",\n        \"std\": 674.510940573878,\n        \"min\": 66647.390625,\n        \"max\": 68105.71875,\n        \"num_unique_values\": 5,\n        \"samples\": [\n          67177.8203125,\n          66829.8515625,\n          68024.640625\n        ],\n        \"semantic_type\": \"\",\n        \"description\": \"\"\n      }\n    },\n    {\n      \"column\": \"Close\",\n      \"properties\": {\n        \"dtype\": \"number\",\n        \"std\": 708.7801041947318,\n        \"min\": 67367.8515625,\n        \"max\": 69001.703125,\n        \"num_unique_values\": 5,\n        \"samples\": [\n          68418.7890625,\n          67367.8515625,\n          68362.734375\n        ],\n        \"semantic_type\": \"\",\n        \"description\": \"\"\n      }\n    },\n    {\n      \"column\": \"Adj Close\",\n      \"properties\": {\n        \"dtype\": \"number\",\n        \"std\": 708.7801041947318,\n        \"min\": 67367.8515625,\n        \"max\": 69001.703125,\n        \"num_unique_values\": 5,\n        \"samples\": [\n          68418.7890625,\n          67367.8515625,\n          68362.734375\n        ],\n        \"semantic_type\": \"\",\n        \"description\": \"\"\n      }\n    },\n    {\n      \"column\": \"Volume\",\n      \"properties\": {\n        \"dtype\": \"number\",\n        \"std\": 10686155850,\n        \"min\": 14443497908,\n        \"max\": 37498611780,\n        \"num_unique_values\": 5,\n        \"samples\": [\n          36857165014,\n          37498611780,\n          14443497908\n        ],\n        \"semantic_type\": \"\",\n        \"description\": \"\"\n      }\n    }\n  ]\n}",
              "type": "dataframe"
            },
            "text/html": [
              "\n",
              "  <div id=\"df-b4b44331-b269-4e57-b8cd-355c014624b9\" class=\"colab-df-container\">\n",
              "    <div>\n",
              "<style scoped>\n",
              "    .dataframe tbody tr th:only-of-type {\n",
              "        vertical-align: middle;\n",
              "    }\n",
              "\n",
              "    .dataframe tbody tr th {\n",
              "        vertical-align: top;\n",
              "    }\n",
              "\n",
              "    .dataframe thead th {\n",
              "        text-align: right;\n",
              "    }\n",
              "</style>\n",
              "<table border=\"1\" class=\"dataframe\">\n",
              "  <thead>\n",
              "    <tr style=\"text-align: right;\">\n",
              "      <th></th>\n",
              "      <th>Open</th>\n",
              "      <th>High</th>\n",
              "      <th>Low</th>\n",
              "      <th>Close</th>\n",
              "      <th>Adj Close</th>\n",
              "      <th>Volume</th>\n",
              "    </tr>\n",
              "    <tr>\n",
              "      <th>Date</th>\n",
              "      <th></th>\n",
              "      <th></th>\n",
              "      <th></th>\n",
              "      <th></th>\n",
              "      <th></th>\n",
              "      <th></th>\n",
              "    </tr>\n",
              "  </thead>\n",
              "  <tbody>\n",
              "    <tr>\n",
              "      <th>2024-10-17</th>\n",
              "      <td>67617.078125</td>\n",
              "      <td>67912.210938</td>\n",
              "      <td>66647.390625</td>\n",
              "      <td>67399.835938</td>\n",
              "      <td>67399.835938</td>\n",
              "      <td>32790898511</td>\n",
              "    </tr>\n",
              "    <tr>\n",
              "      <th>2024-10-18</th>\n",
              "      <td>67419.109375</td>\n",
              "      <td>68969.750000</td>\n",
              "      <td>67177.820312</td>\n",
              "      <td>68418.789062</td>\n",
              "      <td>68418.789062</td>\n",
              "      <td>36857165014</td>\n",
              "    </tr>\n",
              "    <tr>\n",
              "      <th>2024-10-19</th>\n",
              "      <td>68418.976562</td>\n",
              "      <td>68668.007812</td>\n",
              "      <td>68024.640625</td>\n",
              "      <td>68362.734375</td>\n",
              "      <td>68362.734375</td>\n",
              "      <td>14443497908</td>\n",
              "    </tr>\n",
              "    <tr>\n",
              "      <th>2024-10-20</th>\n",
              "      <td>68364.179688</td>\n",
              "      <td>69359.007812</td>\n",
              "      <td>68105.718750</td>\n",
              "      <td>69001.703125</td>\n",
              "      <td>69001.703125</td>\n",
              "      <td>18975847518</td>\n",
              "    </tr>\n",
              "    <tr>\n",
              "      <th>2024-10-21</th>\n",
              "      <td>69002.000000</td>\n",
              "      <td>69462.734375</td>\n",
              "      <td>66829.851562</td>\n",
              "      <td>67367.851562</td>\n",
              "      <td>67367.851562</td>\n",
              "      <td>37498611780</td>\n",
              "    </tr>\n",
              "  </tbody>\n",
              "</table>\n",
              "</div>\n",
              "    <div class=\"colab-df-buttons\">\n",
              "\n",
              "  <div class=\"colab-df-container\">\n",
              "    <button class=\"colab-df-convert\" onclick=\"convertToInteractive('df-b4b44331-b269-4e57-b8cd-355c014624b9')\"\n",
              "            title=\"Convert this dataframe to an interactive table.\"\n",
              "            style=\"display:none;\">\n",
              "\n",
              "  <svg xmlns=\"http://www.w3.org/2000/svg\" height=\"24px\" viewBox=\"0 -960 960 960\">\n",
              "    <path d=\"M120-120v-720h720v720H120Zm60-500h600v-160H180v160Zm220 220h160v-160H400v160Zm0 220h160v-160H400v160ZM180-400h160v-160H180v160Zm440 0h160v-160H620v160ZM180-180h160v-160H180v160Zm440 0h160v-160H620v160Z\"/>\n",
              "  </svg>\n",
              "    </button>\n",
              "\n",
              "  <style>\n",
              "    .colab-df-container {\n",
              "      display:flex;\n",
              "      gap: 12px;\n",
              "    }\n",
              "\n",
              "    .colab-df-convert {\n",
              "      background-color: #E8F0FE;\n",
              "      border: none;\n",
              "      border-radius: 50%;\n",
              "      cursor: pointer;\n",
              "      display: none;\n",
              "      fill: #1967D2;\n",
              "      height: 32px;\n",
              "      padding: 0 0 0 0;\n",
              "      width: 32px;\n",
              "    }\n",
              "\n",
              "    .colab-df-convert:hover {\n",
              "      background-color: #E2EBFA;\n",
              "      box-shadow: 0px 1px 2px rgba(60, 64, 67, 0.3), 0px 1px 3px 1px rgba(60, 64, 67, 0.15);\n",
              "      fill: #174EA6;\n",
              "    }\n",
              "\n",
              "    .colab-df-buttons div {\n",
              "      margin-bottom: 4px;\n",
              "    }\n",
              "\n",
              "    [theme=dark] .colab-df-convert {\n",
              "      background-color: #3B4455;\n",
              "      fill: #D2E3FC;\n",
              "    }\n",
              "\n",
              "    [theme=dark] .colab-df-convert:hover {\n",
              "      background-color: #434B5C;\n",
              "      box-shadow: 0px 1px 3px 1px rgba(0, 0, 0, 0.15);\n",
              "      filter: drop-shadow(0px 1px 2px rgba(0, 0, 0, 0.3));\n",
              "      fill: #FFFFFF;\n",
              "    }\n",
              "  </style>\n",
              "\n",
              "    <script>\n",
              "      const buttonEl =\n",
              "        document.querySelector('#df-b4b44331-b269-4e57-b8cd-355c014624b9 button.colab-df-convert');\n",
              "      buttonEl.style.display =\n",
              "        google.colab.kernel.accessAllowed ? 'block' : 'none';\n",
              "\n",
              "      async function convertToInteractive(key) {\n",
              "        const element = document.querySelector('#df-b4b44331-b269-4e57-b8cd-355c014624b9');\n",
              "        const dataTable =\n",
              "          await google.colab.kernel.invokeFunction('convertToInteractive',\n",
              "                                                    [key], {});\n",
              "        if (!dataTable) return;\n",
              "\n",
              "        const docLinkHtml = 'Like what you see? Visit the ' +\n",
              "          '<a target=\"_blank\" href=https://colab.research.google.com/notebooks/data_table.ipynb>data table notebook</a>'\n",
              "          + ' to learn more about interactive tables.';\n",
              "        element.innerHTML = '';\n",
              "        dataTable['output_type'] = 'display_data';\n",
              "        await google.colab.output.renderOutput(dataTable, element);\n",
              "        const docLink = document.createElement('div');\n",
              "        docLink.innerHTML = docLinkHtml;\n",
              "        element.appendChild(docLink);\n",
              "      }\n",
              "    </script>\n",
              "  </div>\n",
              "\n",
              "\n",
              "<div id=\"df-3477bf85-8c30-4711-8789-95ba1c18459c\">\n",
              "  <button class=\"colab-df-quickchart\" onclick=\"quickchart('df-3477bf85-8c30-4711-8789-95ba1c18459c')\"\n",
              "            title=\"Suggest charts\"\n",
              "            style=\"display:none;\">\n",
              "\n",
              "<svg xmlns=\"http://www.w3.org/2000/svg\" height=\"24px\"viewBox=\"0 0 24 24\"\n",
              "     width=\"24px\">\n",
              "    <g>\n",
              "        <path d=\"M19 3H5c-1.1 0-2 .9-2 2v14c0 1.1.9 2 2 2h14c1.1 0 2-.9 2-2V5c0-1.1-.9-2-2-2zM9 17H7v-7h2v7zm4 0h-2V7h2v10zm4 0h-2v-4h2v4z\"/>\n",
              "    </g>\n",
              "</svg>\n",
              "  </button>\n",
              "\n",
              "<style>\n",
              "  .colab-df-quickchart {\n",
              "      --bg-color: #E8F0FE;\n",
              "      --fill-color: #1967D2;\n",
              "      --hover-bg-color: #E2EBFA;\n",
              "      --hover-fill-color: #174EA6;\n",
              "      --disabled-fill-color: #AAA;\n",
              "      --disabled-bg-color: #DDD;\n",
              "  }\n",
              "\n",
              "  [theme=dark] .colab-df-quickchart {\n",
              "      --bg-color: #3B4455;\n",
              "      --fill-color: #D2E3FC;\n",
              "      --hover-bg-color: #434B5C;\n",
              "      --hover-fill-color: #FFFFFF;\n",
              "      --disabled-bg-color: #3B4455;\n",
              "      --disabled-fill-color: #666;\n",
              "  }\n",
              "\n",
              "  .colab-df-quickchart {\n",
              "    background-color: var(--bg-color);\n",
              "    border: none;\n",
              "    border-radius: 50%;\n",
              "    cursor: pointer;\n",
              "    display: none;\n",
              "    fill: var(--fill-color);\n",
              "    height: 32px;\n",
              "    padding: 0;\n",
              "    width: 32px;\n",
              "  }\n",
              "\n",
              "  .colab-df-quickchart:hover {\n",
              "    background-color: var(--hover-bg-color);\n",
              "    box-shadow: 0 1px 2px rgba(60, 64, 67, 0.3), 0 1px 3px 1px rgba(60, 64, 67, 0.15);\n",
              "    fill: var(--button-hover-fill-color);\n",
              "  }\n",
              "\n",
              "  .colab-df-quickchart-complete:disabled,\n",
              "  .colab-df-quickchart-complete:disabled:hover {\n",
              "    background-color: var(--disabled-bg-color);\n",
              "    fill: var(--disabled-fill-color);\n",
              "    box-shadow: none;\n",
              "  }\n",
              "\n",
              "  .colab-df-spinner {\n",
              "    border: 2px solid var(--fill-color);\n",
              "    border-color: transparent;\n",
              "    border-bottom-color: var(--fill-color);\n",
              "    animation:\n",
              "      spin 1s steps(1) infinite;\n",
              "  }\n",
              "\n",
              "  @keyframes spin {\n",
              "    0% {\n",
              "      border-color: transparent;\n",
              "      border-bottom-color: var(--fill-color);\n",
              "      border-left-color: var(--fill-color);\n",
              "    }\n",
              "    20% {\n",
              "      border-color: transparent;\n",
              "      border-left-color: var(--fill-color);\n",
              "      border-top-color: var(--fill-color);\n",
              "    }\n",
              "    30% {\n",
              "      border-color: transparent;\n",
              "      border-left-color: var(--fill-color);\n",
              "      border-top-color: var(--fill-color);\n",
              "      border-right-color: var(--fill-color);\n",
              "    }\n",
              "    40% {\n",
              "      border-color: transparent;\n",
              "      border-right-color: var(--fill-color);\n",
              "      border-top-color: var(--fill-color);\n",
              "    }\n",
              "    60% {\n",
              "      border-color: transparent;\n",
              "      border-right-color: var(--fill-color);\n",
              "    }\n",
              "    80% {\n",
              "      border-color: transparent;\n",
              "      border-right-color: var(--fill-color);\n",
              "      border-bottom-color: var(--fill-color);\n",
              "    }\n",
              "    90% {\n",
              "      border-color: transparent;\n",
              "      border-bottom-color: var(--fill-color);\n",
              "    }\n",
              "  }\n",
              "</style>\n",
              "\n",
              "  <script>\n",
              "    async function quickchart(key) {\n",
              "      const quickchartButtonEl =\n",
              "        document.querySelector('#' + key + ' button');\n",
              "      quickchartButtonEl.disabled = true;  // To prevent multiple clicks.\n",
              "      quickchartButtonEl.classList.add('colab-df-spinner');\n",
              "      try {\n",
              "        const charts = await google.colab.kernel.invokeFunction(\n",
              "            'suggestCharts', [key], {});\n",
              "      } catch (error) {\n",
              "        console.error('Error during call to suggestCharts:', error);\n",
              "      }\n",
              "      quickchartButtonEl.classList.remove('colab-df-spinner');\n",
              "      quickchartButtonEl.classList.add('colab-df-quickchart-complete');\n",
              "    }\n",
              "    (() => {\n",
              "      let quickchartButtonEl =\n",
              "        document.querySelector('#df-3477bf85-8c30-4711-8789-95ba1c18459c button');\n",
              "      quickchartButtonEl.style.display =\n",
              "        google.colab.kernel.accessAllowed ? 'block' : 'none';\n",
              "    })();\n",
              "  </script>\n",
              "</div>\n",
              "\n",
              "    </div>\n",
              "  </div>\n"
            ],
            "text/plain": [
              "                    Open          High           Low         Close  \\\n",
              "Date                                                                 \n",
              "2024-10-17  67617.078125  67912.210938  66647.390625  67399.835938   \n",
              "2024-10-18  67419.109375  68969.750000  67177.820312  68418.789062   \n",
              "2024-10-19  68418.976562  68668.007812  68024.640625  68362.734375   \n",
              "2024-10-20  68364.179688  69359.007812  68105.718750  69001.703125   \n",
              "2024-10-21  69002.000000  69462.734375  66829.851562  67367.851562   \n",
              "\n",
              "               Adj Close       Volume  \n",
              "Date                                   \n",
              "2024-10-17  67399.835938  32790898511  \n",
              "2024-10-18  68418.789062  36857165014  \n",
              "2024-10-19  68362.734375  14443497908  \n",
              "2024-10-20  69001.703125  18975847518  \n",
              "2024-10-21  67367.851562  37498611780  "
            ]
          },
          "execution_count": 3,
          "metadata": {},
          "output_type": "execute_result"
        }
      ],
      "source": [
        "data.tail()"
      ]
    },
    {
      "cell_type": "code",
      "execution_count": 4,
      "metadata": {
        "id": "i2p3pkJw4xLI"
      },
      "outputs": [],
      "source": [
        "data = data.reset_index()"
      ]
    },
    {
      "cell_type": "code",
      "execution_count": 5,
      "metadata": {
        "colab": {
          "base_uri": "https://localhost:8080/"
        },
        "id": "_qbIcsf447p1",
        "outputId": "5ca240f8-064d-4c36-cf50-014186dd82a1"
      },
      "outputs": [
        {
          "name": "stdout",
          "output_type": "stream",
          "text": [
            "<class 'pandas.core.frame.DataFrame'>\n",
            "RangeIndex: 3688 entries, 0 to 3687\n",
            "Data columns (total 7 columns):\n",
            " #   Column     Non-Null Count  Dtype         \n",
            "---  ------     --------------  -----         \n",
            " 0   Date       3688 non-null   datetime64[ns]\n",
            " 1   Open       3688 non-null   float64       \n",
            " 2   High       3688 non-null   float64       \n",
            " 3   Low        3688 non-null   float64       \n",
            " 4   Close      3688 non-null   float64       \n",
            " 5   Adj Close  3688 non-null   float64       \n",
            " 6   Volume     3688 non-null   int64         \n",
            "dtypes: datetime64[ns](1), float64(5), int64(1)\n",
            "memory usage: 201.8 KB\n"
          ]
        }
      ],
      "source": [
        "data.info()"
      ]
    },
    {
      "cell_type": "markdown",
      "metadata": {
        "id": "E-ICxM1CybiM"
      },
      "source": [
        "**DATA PREPROCESSING**"
      ]
    },
    {
      "cell_type": "markdown",
      "metadata": {
        "id": "Ra6GpNHfCkhc"
      },
      "source": [
        "Doing some feature selection and engineering."
      ]
    },
    {
      "cell_type": "markdown",
      "metadata": {
        "id": "Gb53LR-iBost"
      },
      "source": [
        "Calculate some period of EMA using Close price."
      ]
    },
    {
      "cell_type": "code",
      "execution_count": 7,
      "metadata": {
        "id": "xWnuV8AyiJFK"
      },
      "outputs": [],
      "source": [
        "data['EMA7'] = data['Close'].ewm(span=7, adjust=False).mean()\n",
        "data['EMA14'] = data['Close'].ewm(span=14, adjust=False).mean()\n",
        "data['EMA20'] = data['Close'].ewm(span=20, adjust=False).mean()\n",
        "data['EMA50'] = data['Close'].ewm(span=50, adjust=False).mean()\n",
        "data['EMA200'] = data['Close'].ewm(span=200, adjust=False).mean()"
      ]
    },
    {
      "cell_type": "markdown",
      "metadata": {
        "id": "joQjJVFDCDdr"
      },
      "source": [
        "Calculate RSI using Close price."
      ]
    },
    {
      "cell_type": "code",
      "execution_count": 10,
      "metadata": {
        "id": "Es7Qcr0e6lDU"
      },
      "outputs": [],
      "source": [
        "def compute_rsi(data, window=14):\n",
        "    delta = data['Close'].diff(1)\n",
        "    gain = (delta.where(delta > 0, 0)).rolling(window).mean()\n",
        "    loss = (-delta.where(delta < 0, 0)).rolling(window).mean()\n",
        "    rs = gain / loss\n",
        "    return 100 - (100 / (1 + rs))\n",
        "\n",
        "data['RSI'] = compute_rsi(data)"
      ]
    },
    {
      "cell_type": "markdown",
      "metadata": {
        "id": "90g9pk5mCGpw"
      },
      "source": [
        "Calculate Bollinger Bands using EMA20 and Close price."
      ]
    },
    {
      "cell_type": "code",
      "execution_count": 11,
      "metadata": {
        "id": "bps_ATkc6sXY"
      },
      "outputs": [],
      "source": [
        "data['Upper_Band'] = data['EMA20'] + 2 * data['Close'].rolling(window=20).std()\n",
        "data['Lower_Band'] = data['EMA20'] - 2 * data['Close'].rolling(window=20).std()"
      ]
    },
    {
      "cell_type": "markdown",
      "metadata": {
        "id": "eAOHCvzXCbfl"
      },
      "source": [
        "Calculate On Balance Volume using Close price and volume transaction."
      ]
    },
    {
      "cell_type": "code",
      "execution_count": 12,
      "metadata": {
        "id": "VSfl-Z946zwA"
      },
      "outputs": [],
      "source": [
        "data['OBV'] = (np.sign(data['Close'].diff()) * data['Volume']).cumsum()"
      ]
    },
    {
      "cell_type": "code",
      "execution_count": 13,
      "metadata": {
        "id": "Pi-8kYTm8ee9"
      },
      "outputs": [],
      "source": [
        "data['OBV'] = data['OBV'].ffill()\n",
        "data = data.dropna()"
      ]
    },
    {
      "cell_type": "code",
      "execution_count": 14,
      "metadata": {
        "colab": {
          "base_uri": "https://localhost:8080/",
          "height": 313
        },
        "id": "14fnxy7YihHi",
        "outputId": "7dfe971f-f614-400d-fce7-79c8ad5ef249"
      },
      "outputs": [
        {
          "data": {
            "application/vnd.google.colaboratory.intrinsic+json": {
              "summary": "{\n  \"name\": \"data\",\n  \"rows\": 3669,\n  \"fields\": [\n    {\n      \"column\": \"Date\",\n      \"properties\": {\n        \"dtype\": \"date\",\n        \"min\": \"2014-10-06 00:00:00\",\n        \"max\": \"2024-10-21 00:00:00\",\n        \"num_unique_values\": 3669,\n        \"samples\": [\n          \"2015-04-03 00:00:00\",\n          \"2022-02-05 00:00:00\",\n          \"2023-05-05 00:00:00\"\n        ],\n        \"semantic_type\": \"\",\n        \"description\": \"\"\n      }\n    },\n    {\n      \"column\": \"Open\",\n      \"properties\": {\n        \"dtype\": \"number\",\n        \"std\": 20026.308991812813,\n        \"min\": 176.89700317382812,\n        \"max\": 73079.375,\n        \"num_unique_values\": 3665,\n        \"samples\": [\n          9611.7822265625,\n          30471.84765625,\n          19986.607421875\n        ],\n        \"semantic_type\": \"\",\n        \"description\": \"\"\n      }\n    },\n    {\n      \"column\": \"High\",\n      \"properties\": {\n        \"dtype\": \"number\",\n        \"std\": 20466.932343126795,\n        \"min\": 211.7310028076172,\n        \"max\": 73750.0703125,\n        \"num_unique_values\": 3666,\n        \"samples\": [\n          9643.216796875,\n          30641.2890625,\n          61451.15234375\n        ],\n        \"semantic_type\": \"\",\n        \"description\": \"\"\n      }\n    },\n    {\n      \"column\": \"Low\",\n      \"properties\": {\n        \"dtype\": \"number\",\n        \"std\": 19550.487571527214,\n        \"min\": 171.50999450683594,\n        \"max\": 71334.09375,\n        \"num_unique_values\": 3667,\n        \"samples\": [\n          9632.3828125,\n          29600.275390625,\n          60492.625\n        ],\n        \"semantic_type\": \"\",\n        \"description\": \"\"\n      }\n    },\n    {\n      \"column\": \"Close\",\n      \"properties\": {\n        \"dtype\": \"number\",\n        \"std\": 20038.650277141947,\n        \"min\": 178.10299682617188,\n        \"max\": 73083.5,\n        \"num_unique_values\": 3666,\n        \"samples\": [\n          9608.4755859375,\n          30590.078125,\n          60793.7109375\n        ],\n        \"semantic_type\": \"\",\n        \"description\": \"\"\n      }\n    },\n    {\n      \"column\": \"Adj Close\",\n      \"properties\": {\n        \"dtype\": \"number\",\n        \"std\": 20038.650277141947,\n        \"min\": 178.10299682617188,\n        \"max\": 73083.5,\n        \"num_unique_values\": 3666,\n        \"samples\": [\n          9608.4755859375,\n          30590.078125,\n          60793.7109375\n        ],\n        \"semantic_type\": \"\",\n        \"description\": \"\"\n      }\n    },\n    {\n      \"column\": \"Volume\",\n      \"properties\": {\n        \"dtype\": \"number\",\n        \"std\": 19156653887,\n        \"min\": 5914570,\n        \"max\": 350967941479,\n        \"num_unique_values\": 3669,\n        \"samples\": [\n          23146600,\n          19652846215,\n          17936566518\n        ],\n        \"semantic_type\": \"\",\n        \"description\": \"\"\n      }\n    },\n    {\n      \"column\": \"Log_Close\",\n      \"properties\": {\n        \"dtype\": \"number\",\n        \"std\": 1.8032890650166513,\n        \"min\": 5.182362016802965,\n        \"max\": 11.19935790206543,\n        \"num_unique_values\": 3666,\n        \"samples\": [\n          9.170400861487481,\n          10.328430991080884,\n          11.015241624076165\n        ],\n        \"semantic_type\": \"\",\n        \"description\": \"\"\n      }\n    },\n    {\n      \"column\": \"EMA7\",\n      \"properties\": {\n        \"dtype\": \"number\",\n        \"std\": 19962.483576978244,\n        \"min\": 215.86507934638277,\n        \"max\": 70367.09083463499,\n        \"num_unique_values\": 3669,\n        \"samples\": [\n          250.63562141523167,\n          39328.26279169169,\n          28993.120391974368\n        ],\n        \"semantic_type\": \"\",\n        \"description\": \"\"\n      }\n    },\n    {\n      \"column\": \"EMA14\",\n      \"properties\": {\n        \"dtype\": \"number\",\n        \"std\": 19882.25933589782,\n        \"min\": 225.27048882884677,\n        \"max\": 69208.45729711613,\n        \"num_unique_values\": 3669,\n        \"samples\": [\n          253.49519105817663,\n          39013.06737643332,\n          28885.78682143325\n        ],\n        \"semantic_type\": \"\",\n        \"description\": \"\"\n      }\n    },\n    {\n      \"column\": \"EMA20\",\n      \"properties\": {\n        \"dtype\": \"number\",\n        \"std\": 19815.00302322636,\n        \"min\": 228.66919305661315,\n        \"max\": 68755.69585932701,\n        \"num_unique_values\": 3669,\n        \"samples\": [\n          255.86831494331173,\n          39378.53730415783,\n          28817.069975921528\n        ],\n        \"semantic_type\": \"\",\n        \"description\": \"\"\n      }\n    },\n    {\n      \"column\": \"EMA50\",\n      \"properties\": {\n        \"dtype\": \"number\",\n        \"std\": 19474.486824879223,\n        \"min\": 233.65388181901466,\n        \"max\": 67024.57467983509,\n        \"num_unique_values\": 3669,\n        \"samples\": [\n          258.94056829001397,\n          42662.11265277389,\n          27889.1064927821\n        ],\n        \"semantic_type\": \"\",\n        \"description\": \"\"\n      }\n    },\n    {\n      \"column\": \"EMA200\",\n      \"properties\": {\n        \"dtype\": \"number\",\n        \"std\": 17703.08331547359,\n        \"min\": 254.74040457672686,\n        \"max\": 60683.844042093115,\n        \"num_unique_values\": 3669,\n        \"samples\": [\n          307.87780406395797,\n          46958.00641051631,\n          24514.912293491994\n        ],\n        \"semantic_type\": \"\",\n        \"description\": \"\"\n      }\n    },\n    {\n      \"column\": \"RSI\",\n      \"properties\": {\n        \"dtype\": \"number\",\n        \"std\": 18.446641760859315,\n        \"min\": 4.699488750305562,\n        \"max\": 99.76562791463088,\n        \"num_unique_values\": 3669,\n        \"samples\": [\n          44.734947977411345,\n          79.80202608031831,\n          68.92563894235036\n        ],\n        \"semantic_type\": \"\",\n        \"description\": \"\"\n      }\n    },\n    {\n      \"column\": \"Upper_Band\",\n      \"properties\": {\n        \"dtype\": \"number\",\n        \"std\": 21931.862458337968,\n        \"min\": 240.2376641454906,\n        \"max\": 78217.04755445408,\n        \"num_unique_values\": 3669,\n        \"samples\": [\n          285.05282836085627,\n          43938.65352884411,\n          30569.58716323618\n        ],\n        \"semantic_type\": \"\",\n        \"description\": \"\"\n      }\n    },\n    {\n      \"column\": \"Lower_Band\",\n      \"properties\": {\n        \"dtype\": \"number\",\n        \"std\": 17827.14457741739,\n        \"min\": 163.5808059551049,\n        \"max\": 66595.17522874167,\n        \"num_unique_values\": 3669,\n        \"samples\": [\n          226.6838015257672,\n          34818.42107947155,\n          27064.552788606874\n        ],\n        \"semantic_type\": \"\",\n        \"description\": \"\"\n      }\n    },\n    {\n      \"column\": \"OBV\",\n      \"properties\": {\n        \"dtype\": \"number\",\n        \"std\": 742851325920.4574,\n        \"min\": -353864140.0,\n        \"max\": 2687088718957.0,\n        \"num_unique_values\": 3668,\n        \"samples\": [\n          -15394536.0,\n          1770441682687.0,\n          1210658192293.0\n        ],\n        \"semantic_type\": \"\",\n        \"description\": \"\"\n      }\n    }\n  ]\n}",
              "type": "dataframe",
              "variable_name": "data"
            },
            "text/html": [
              "\n",
              "  <div id=\"df-c5043b10-7547-4907-80e7-3e66dbafc762\" class=\"colab-df-container\">\n",
              "    <div>\n",
              "<style scoped>\n",
              "    .dataframe tbody tr th:only-of-type {\n",
              "        vertical-align: middle;\n",
              "    }\n",
              "\n",
              "    .dataframe tbody tr th {\n",
              "        vertical-align: top;\n",
              "    }\n",
              "\n",
              "    .dataframe thead th {\n",
              "        text-align: right;\n",
              "    }\n",
              "</style>\n",
              "<table border=\"1\" class=\"dataframe\">\n",
              "  <thead>\n",
              "    <tr style=\"text-align: right;\">\n",
              "      <th></th>\n",
              "      <th>Date</th>\n",
              "      <th>Open</th>\n",
              "      <th>High</th>\n",
              "      <th>Low</th>\n",
              "      <th>Close</th>\n",
              "      <th>Adj Close</th>\n",
              "      <th>Volume</th>\n",
              "      <th>Log_Close</th>\n",
              "      <th>EMA7</th>\n",
              "      <th>EMA14</th>\n",
              "      <th>EMA20</th>\n",
              "      <th>EMA50</th>\n",
              "      <th>EMA200</th>\n",
              "      <th>RSI</th>\n",
              "      <th>Upper_Band</th>\n",
              "      <th>Lower_Band</th>\n",
              "      <th>OBV</th>\n",
              "    </tr>\n",
              "  </thead>\n",
              "  <tbody>\n",
              "    <tr>\n",
              "      <th>19</th>\n",
              "      <td>2014-10-06</td>\n",
              "      <td>320.389008</td>\n",
              "      <td>345.134003</td>\n",
              "      <td>302.559998</td>\n",
              "      <td>330.079010</td>\n",
              "      <td>330.079010</td>\n",
              "      <td>79011800</td>\n",
              "      <td>5.799332</td>\n",
              "      <td>349.294184</td>\n",
              "      <td>370.852860</td>\n",
              "      <td>383.883180</td>\n",
              "      <td>416.314470</td>\n",
              "      <td>444.795912</td>\n",
              "      <td>30.138935</td>\n",
              "      <td>455.000513</td>\n",
              "      <td>312.765847</td>\n",
              "      <td>-238669296.0</td>\n",
              "    </tr>\n",
              "    <tr>\n",
              "      <th>20</th>\n",
              "      <td>2014-10-07</td>\n",
              "      <td>330.584015</td>\n",
              "      <td>339.247009</td>\n",
              "      <td>320.481995</td>\n",
              "      <td>336.187012</td>\n",
              "      <td>336.187012</td>\n",
              "      <td>49199900</td>\n",
              "      <td>5.817668</td>\n",
              "      <td>346.017391</td>\n",
              "      <td>366.230747</td>\n",
              "      <td>379.340688</td>\n",
              "      <td>413.172217</td>\n",
              "      <td>443.715227</td>\n",
              "      <td>17.642549</td>\n",
              "      <td>446.822280</td>\n",
              "      <td>311.859096</td>\n",
              "      <td>-189469396.0</td>\n",
              "    </tr>\n",
              "    <tr>\n",
              "      <th>21</th>\n",
              "      <td>2014-10-08</td>\n",
              "      <td>336.115997</td>\n",
              "      <td>354.364014</td>\n",
              "      <td>327.187988</td>\n",
              "      <td>352.940002</td>\n",
              "      <td>352.940002</td>\n",
              "      <td>54736300</td>\n",
              "      <td>5.866298</td>\n",
              "      <td>347.748044</td>\n",
              "      <td>364.458648</td>\n",
              "      <td>376.826337</td>\n",
              "      <td>410.810169</td>\n",
              "      <td>442.811990</td>\n",
              "      <td>27.775351</td>\n",
              "      <td>442.813717</td>\n",
              "      <td>310.838957</td>\n",
              "      <td>-134733096.0</td>\n",
              "    </tr>\n",
              "    <tr>\n",
              "      <th>22</th>\n",
              "      <td>2014-10-09</td>\n",
              "      <td>352.747986</td>\n",
              "      <td>382.726013</td>\n",
              "      <td>347.687012</td>\n",
              "      <td>365.026001</td>\n",
              "      <td>365.026001</td>\n",
              "      <td>83641104</td>\n",
              "      <td>5.899969</td>\n",
              "      <td>352.067533</td>\n",
              "      <td>364.534295</td>\n",
              "      <td>375.702495</td>\n",
              "      <td>409.014712</td>\n",
              "      <td>442.038001</td>\n",
              "      <td>35.319233</td>\n",
              "      <td>441.654040</td>\n",
              "      <td>309.750950</td>\n",
              "      <td>-51091992.0</td>\n",
              "    </tr>\n",
              "    <tr>\n",
              "      <th>23</th>\n",
              "      <td>2014-10-10</td>\n",
              "      <td>364.687012</td>\n",
              "      <td>375.066986</td>\n",
              "      <td>352.963013</td>\n",
              "      <td>361.562012</td>\n",
              "      <td>361.562012</td>\n",
              "      <td>43665700</td>\n",
              "      <td>5.890434</td>\n",
              "      <td>354.441153</td>\n",
              "      <td>364.137990</td>\n",
              "      <td>374.355783</td>\n",
              "      <td>407.153822</td>\n",
              "      <td>441.237244</td>\n",
              "      <td>36.159745</td>\n",
              "      <td>439.144468</td>\n",
              "      <td>309.567098</td>\n",
              "      <td>-94757692.0</td>\n",
              "    </tr>\n",
              "  </tbody>\n",
              "</table>\n",
              "</div>\n",
              "    <div class=\"colab-df-buttons\">\n",
              "\n",
              "  <div class=\"colab-df-container\">\n",
              "    <button class=\"colab-df-convert\" onclick=\"convertToInteractive('df-c5043b10-7547-4907-80e7-3e66dbafc762')\"\n",
              "            title=\"Convert this dataframe to an interactive table.\"\n",
              "            style=\"display:none;\">\n",
              "\n",
              "  <svg xmlns=\"http://www.w3.org/2000/svg\" height=\"24px\" viewBox=\"0 -960 960 960\">\n",
              "    <path d=\"M120-120v-720h720v720H120Zm60-500h600v-160H180v160Zm220 220h160v-160H400v160Zm0 220h160v-160H400v160ZM180-400h160v-160H180v160Zm440 0h160v-160H620v160ZM180-180h160v-160H180v160Zm440 0h160v-160H620v160Z\"/>\n",
              "  </svg>\n",
              "    </button>\n",
              "\n",
              "  <style>\n",
              "    .colab-df-container {\n",
              "      display:flex;\n",
              "      gap: 12px;\n",
              "    }\n",
              "\n",
              "    .colab-df-convert {\n",
              "      background-color: #E8F0FE;\n",
              "      border: none;\n",
              "      border-radius: 50%;\n",
              "      cursor: pointer;\n",
              "      display: none;\n",
              "      fill: #1967D2;\n",
              "      height: 32px;\n",
              "      padding: 0 0 0 0;\n",
              "      width: 32px;\n",
              "    }\n",
              "\n",
              "    .colab-df-convert:hover {\n",
              "      background-color: #E2EBFA;\n",
              "      box-shadow: 0px 1px 2px rgba(60, 64, 67, 0.3), 0px 1px 3px 1px rgba(60, 64, 67, 0.15);\n",
              "      fill: #174EA6;\n",
              "    }\n",
              "\n",
              "    .colab-df-buttons div {\n",
              "      margin-bottom: 4px;\n",
              "    }\n",
              "\n",
              "    [theme=dark] .colab-df-convert {\n",
              "      background-color: #3B4455;\n",
              "      fill: #D2E3FC;\n",
              "    }\n",
              "\n",
              "    [theme=dark] .colab-df-convert:hover {\n",
              "      background-color: #434B5C;\n",
              "      box-shadow: 0px 1px 3px 1px rgba(0, 0, 0, 0.15);\n",
              "      filter: drop-shadow(0px 1px 2px rgba(0, 0, 0, 0.3));\n",
              "      fill: #FFFFFF;\n",
              "    }\n",
              "  </style>\n",
              "\n",
              "    <script>\n",
              "      const buttonEl =\n",
              "        document.querySelector('#df-c5043b10-7547-4907-80e7-3e66dbafc762 button.colab-df-convert');\n",
              "      buttonEl.style.display =\n",
              "        google.colab.kernel.accessAllowed ? 'block' : 'none';\n",
              "\n",
              "      async function convertToInteractive(key) {\n",
              "        const element = document.querySelector('#df-c5043b10-7547-4907-80e7-3e66dbafc762');\n",
              "        const dataTable =\n",
              "          await google.colab.kernel.invokeFunction('convertToInteractive',\n",
              "                                                    [key], {});\n",
              "        if (!dataTable) return;\n",
              "\n",
              "        const docLinkHtml = 'Like what you see? Visit the ' +\n",
              "          '<a target=\"_blank\" href=https://colab.research.google.com/notebooks/data_table.ipynb>data table notebook</a>'\n",
              "          + ' to learn more about interactive tables.';\n",
              "        element.innerHTML = '';\n",
              "        dataTable['output_type'] = 'display_data';\n",
              "        await google.colab.output.renderOutput(dataTable, element);\n",
              "        const docLink = document.createElement('div');\n",
              "        docLink.innerHTML = docLinkHtml;\n",
              "        element.appendChild(docLink);\n",
              "      }\n",
              "    </script>\n",
              "  </div>\n",
              "\n",
              "\n",
              "<div id=\"df-15c22f27-e741-40bc-af8e-178e7879776e\">\n",
              "  <button class=\"colab-df-quickchart\" onclick=\"quickchart('df-15c22f27-e741-40bc-af8e-178e7879776e')\"\n",
              "            title=\"Suggest charts\"\n",
              "            style=\"display:none;\">\n",
              "\n",
              "<svg xmlns=\"http://www.w3.org/2000/svg\" height=\"24px\"viewBox=\"0 0 24 24\"\n",
              "     width=\"24px\">\n",
              "    <g>\n",
              "        <path d=\"M19 3H5c-1.1 0-2 .9-2 2v14c0 1.1.9 2 2 2h14c1.1 0 2-.9 2-2V5c0-1.1-.9-2-2-2zM9 17H7v-7h2v7zm4 0h-2V7h2v10zm4 0h-2v-4h2v4z\"/>\n",
              "    </g>\n",
              "</svg>\n",
              "  </button>\n",
              "\n",
              "<style>\n",
              "  .colab-df-quickchart {\n",
              "      --bg-color: #E8F0FE;\n",
              "      --fill-color: #1967D2;\n",
              "      --hover-bg-color: #E2EBFA;\n",
              "      --hover-fill-color: #174EA6;\n",
              "      --disabled-fill-color: #AAA;\n",
              "      --disabled-bg-color: #DDD;\n",
              "  }\n",
              "\n",
              "  [theme=dark] .colab-df-quickchart {\n",
              "      --bg-color: #3B4455;\n",
              "      --fill-color: #D2E3FC;\n",
              "      --hover-bg-color: #434B5C;\n",
              "      --hover-fill-color: #FFFFFF;\n",
              "      --disabled-bg-color: #3B4455;\n",
              "      --disabled-fill-color: #666;\n",
              "  }\n",
              "\n",
              "  .colab-df-quickchart {\n",
              "    background-color: var(--bg-color);\n",
              "    border: none;\n",
              "    border-radius: 50%;\n",
              "    cursor: pointer;\n",
              "    display: none;\n",
              "    fill: var(--fill-color);\n",
              "    height: 32px;\n",
              "    padding: 0;\n",
              "    width: 32px;\n",
              "  }\n",
              "\n",
              "  .colab-df-quickchart:hover {\n",
              "    background-color: var(--hover-bg-color);\n",
              "    box-shadow: 0 1px 2px rgba(60, 64, 67, 0.3), 0 1px 3px 1px rgba(60, 64, 67, 0.15);\n",
              "    fill: var(--button-hover-fill-color);\n",
              "  }\n",
              "\n",
              "  .colab-df-quickchart-complete:disabled,\n",
              "  .colab-df-quickchart-complete:disabled:hover {\n",
              "    background-color: var(--disabled-bg-color);\n",
              "    fill: var(--disabled-fill-color);\n",
              "    box-shadow: none;\n",
              "  }\n",
              "\n",
              "  .colab-df-spinner {\n",
              "    border: 2px solid var(--fill-color);\n",
              "    border-color: transparent;\n",
              "    border-bottom-color: var(--fill-color);\n",
              "    animation:\n",
              "      spin 1s steps(1) infinite;\n",
              "  }\n",
              "\n",
              "  @keyframes spin {\n",
              "    0% {\n",
              "      border-color: transparent;\n",
              "      border-bottom-color: var(--fill-color);\n",
              "      border-left-color: var(--fill-color);\n",
              "    }\n",
              "    20% {\n",
              "      border-color: transparent;\n",
              "      border-left-color: var(--fill-color);\n",
              "      border-top-color: var(--fill-color);\n",
              "    }\n",
              "    30% {\n",
              "      border-color: transparent;\n",
              "      border-left-color: var(--fill-color);\n",
              "      border-top-color: var(--fill-color);\n",
              "      border-right-color: var(--fill-color);\n",
              "    }\n",
              "    40% {\n",
              "      border-color: transparent;\n",
              "      border-right-color: var(--fill-color);\n",
              "      border-top-color: var(--fill-color);\n",
              "    }\n",
              "    60% {\n",
              "      border-color: transparent;\n",
              "      border-right-color: var(--fill-color);\n",
              "    }\n",
              "    80% {\n",
              "      border-color: transparent;\n",
              "      border-right-color: var(--fill-color);\n",
              "      border-bottom-color: var(--fill-color);\n",
              "    }\n",
              "    90% {\n",
              "      border-color: transparent;\n",
              "      border-bottom-color: var(--fill-color);\n",
              "    }\n",
              "  }\n",
              "</style>\n",
              "\n",
              "  <script>\n",
              "    async function quickchart(key) {\n",
              "      const quickchartButtonEl =\n",
              "        document.querySelector('#' + key + ' button');\n",
              "      quickchartButtonEl.disabled = true;  // To prevent multiple clicks.\n",
              "      quickchartButtonEl.classList.add('colab-df-spinner');\n",
              "      try {\n",
              "        const charts = await google.colab.kernel.invokeFunction(\n",
              "            'suggestCharts', [key], {});\n",
              "      } catch (error) {\n",
              "        console.error('Error during call to suggestCharts:', error);\n",
              "      }\n",
              "      quickchartButtonEl.classList.remove('colab-df-spinner');\n",
              "      quickchartButtonEl.classList.add('colab-df-quickchart-complete');\n",
              "    }\n",
              "    (() => {\n",
              "      let quickchartButtonEl =\n",
              "        document.querySelector('#df-15c22f27-e741-40bc-af8e-178e7879776e button');\n",
              "      quickchartButtonEl.style.display =\n",
              "        google.colab.kernel.accessAllowed ? 'block' : 'none';\n",
              "    })();\n",
              "  </script>\n",
              "</div>\n",
              "\n",
              "    </div>\n",
              "  </div>\n"
            ],
            "text/plain": [
              "         Date        Open        High         Low       Close   Adj Close  \\\n",
              "19 2014-10-06  320.389008  345.134003  302.559998  330.079010  330.079010   \n",
              "20 2014-10-07  330.584015  339.247009  320.481995  336.187012  336.187012   \n",
              "21 2014-10-08  336.115997  354.364014  327.187988  352.940002  352.940002   \n",
              "22 2014-10-09  352.747986  382.726013  347.687012  365.026001  365.026001   \n",
              "23 2014-10-10  364.687012  375.066986  352.963013  361.562012  361.562012   \n",
              "\n",
              "      Volume  Log_Close        EMA7       EMA14       EMA20       EMA50  \\\n",
              "19  79011800   5.799332  349.294184  370.852860  383.883180  416.314470   \n",
              "20  49199900   5.817668  346.017391  366.230747  379.340688  413.172217   \n",
              "21  54736300   5.866298  347.748044  364.458648  376.826337  410.810169   \n",
              "22  83641104   5.899969  352.067533  364.534295  375.702495  409.014712   \n",
              "23  43665700   5.890434  354.441153  364.137990  374.355783  407.153822   \n",
              "\n",
              "        EMA200        RSI  Upper_Band  Lower_Band          OBV  \n",
              "19  444.795912  30.138935  455.000513  312.765847 -238669296.0  \n",
              "20  443.715227  17.642549  446.822280  311.859096 -189469396.0  \n",
              "21  442.811990  27.775351  442.813717  310.838957 -134733096.0  \n",
              "22  442.038001  35.319233  441.654040  309.750950  -51091992.0  \n",
              "23  441.237244  36.159745  439.144468  309.567098  -94757692.0  "
            ]
          },
          "execution_count": 14,
          "metadata": {},
          "output_type": "execute_result"
        }
      ],
      "source": [
        "data.head()"
      ]
    },
    {
      "cell_type": "markdown",
      "metadata": {
        "id": "eALwnpGECsz-"
      },
      "source": [
        "Plotting some features."
      ]
    },
    {
      "cell_type": "code",
      "execution_count": 15,
      "metadata": {
        "colab": {
          "base_uri": "https://localhost:8080/",
          "height": 650
        },
        "id": "hxnyepVkikSr",
        "outputId": "8e7a7a1d-2fdf-4592-ee22-b1e44e1c8050"
      },
      "outputs": [
        {
          "data": {
            "image/png": "[encoded data removed]",
            "text/plain": [
              "<Figure size 1400x700 with 1 Axes>"
            ]
          },
          "metadata": {},
          "output_type": "display_data"
        }
      ],
      "source": [
        "# Plotting the data\n",
        "plt.figure(figsize=(14, 7))\n",
        "\n",
        "# Plot Open, Close, High, Low prices\n",
        "plt.plot(data['Date'], data['Open'], label='Open', alpha=0.5)\n",
        "plt.plot(data['Date'], data['Close'], label='Close', alpha=0.5)\n",
        "plt.plot(data['Date'], data['High'], label='High', alpha=0.5)\n",
        "plt.plot(data['Date'], data['Low'], label='Low', alpha=0.5)\n",
        "\n",
        "# Plot Moving Averages\n",
        "plt.plot(data['Date'], data['EMA7'], label='EMA7', linestyle='--')\n",
        "plt.plot(data['Date'], data['EMA14'], label='EMA14', linestyle='--')\n",
        "plt.plot(data['Date'], data['EMA50'], label='EMA50', linestyle='--')\n",
        "plt.plot(data['Date'], data['EMA200'], label='EMA200', linestyle='--')\n",
        "\n",
        "# Add titles and labels\n",
        "plt.title('Asset Prices and Moving Averages')\n",
        "plt.xlabel('Date')\n",
        "plt.ylabel('Price')\n",
        "plt.legend()\n",
        "\n",
        "# Rotate x-axis labels for better readability\n",
        "plt.xticks(rotation=45)\n",
        "\n",
        "# Show the plot\n",
        "plt.show()"
      ]
    },
    {
      "cell_type": "markdown",
      "metadata": {
        "id": "BEd7GiaMCwT5"
      },
      "source": [
        "Define the features and target that will be used."
      ]
    },
    {
      "cell_type": "code",
      "execution_count": 16,
      "metadata": {
        "id": "JfKLfHB5i872"
      },
      "outputs": [],
      "source": [
        "# Create the target variable (next day's closing price)\n",
        "data['Target'] = data['Close'].shift(-1)\n",
        "data = data.dropna()"
      ]
    },
    {
      "cell_type": "code",
      "execution_count": 17,
      "metadata": {
        "id": "l4ypCOi7jMwL"
      },
      "outputs": [],
      "source": [
        "# Select features and target\n",
        "features = data[['Open', 'Low', 'High', 'Close', 'Volume', 'EMA7', 'EMA14', 'EMA50', 'EMA200', 'RSI', 'Upper_Band', 'Lower_Band', 'OBV']]\n",
        "target = data['Target']"
      ]
    },
    {
      "cell_type": "code",
      "execution_count": 18,
      "metadata": {
        "id": "dEUqrwFO0hwh"
      },
      "outputs": [],
      "source": [
        "# Normalize the features for LSTM\n",
        "scaler = MinMaxScaler()\n",
        "features_scaled = scaler.fit_transform(features)\n",
        "target = target.values.reshape(-1, 1)\n",
        "target_scaled = scaler.fit_transform(target)"
      ]
    },
    {
      "cell_type": "markdown",
      "metadata": {
        "id": "rQi6OhKuDCv2"
      },
      "source": [
        "Convert features and targets into sequences and split the training data and testing data."
      ]
    },
    {
      "cell_type": "code",
      "execution_count": 19,
      "metadata": {
        "colab": {
          "base_uri": "https://localhost:8080/"
        },
        "id": "gDjROn6bkisE",
        "outputId": "1a554d59-9548-47b5-a1a6-93c84aebe891"
      },
      "outputs": [
        {
          "name": "stdout",
          "output_type": "stream",
          "text": [
            "X_train shape: (2910, 30, 13)\n",
            "y_train shape: (2910, 1)\n",
            "X_test shape: (728, 30, 13)\n",
            "y_test shape: (728, 1)\n"
          ]
        }
      ],
      "source": [
        "def create_sequences(features, target, n_steps):\n",
        "    X, y = [], []\n",
        "    for i in range(len(features) - n_steps):\n",
        "        X.append(features[i:i + n_steps])\n",
        "        y.append(target[i + n_steps])\n",
        "    return np.array(X), np.array(y)\n",
        "\n",
        "# Define the sequence length (e.g., 60 days)\n",
        "n_steps = 30\n",
        "\n",
        "X, y = create_sequences(features_scaled, target_scaled, n_steps)\n",
        "\n",
        "X_train, X_test, y_train, y_test = train_test_split(X, y, test_size=0.2, random_state=42)\n",
        "\n",
        "print(f'X_train shape: {X_train.shape}')\n",
        "print(f'y_train shape: {y_train.shape}')\n",
        "print(f'X_test shape: {X_test.shape}')\n",
        "print(f'y_test shape: {y_test.shape}')"
      ]
    },
    {
      "cell_type": "markdown",
      "metadata": {
        "id": "3JjKCzuUDKgf"
      },
      "source": [
        "**BUILD THE MODEL**"
      ]
    },
    {
      "cell_type": "markdown",
      "metadata": {
        "id": "7Qu-yib6DO_b"
      },
      "source": [
        "We define a custom LSTM architecture using Keras."
      ]
    },
    {
      "cell_type": "code",
      "execution_count": 22,
      "metadata": {
        "colab": {
          "base_uri": "https://localhost:8080/"
        },
        "id": "dioDZDzBklsT",
        "outputId": "4011348a-121e-4e9b-ae0a-3e98fc02445e"
      },
      "outputs": [
        {
          "name": "stdout",
          "output_type": "stream",
          "text": [
            "Epoch 1/100\n",
            "\u001b[1m73/73\u001b[0m \u001b[32m━━━━━━━━━━━━━━━━━━━━\u001b[0m\u001b[37m\u001b[0m \u001b[1m4s\u001b[0m 15ms/step - loss: 0.0439 - val_loss: 0.0211\n",
            "Epoch 2/100\n",
            "\u001b[1m73/73\u001b[0m \u001b[32m━━━━━━━━━━━━━━━━━━━━\u001b[0m\u001b[37m\u001b[0m \u001b[1m1s\u001b[0m 9ms/step - loss: 0.0207 - val_loss: 0.0167\n",
            "Epoch 3/100\n",
            "\u001b[1m73/73\u001b[0m \u001b[32m━━━━━━━━━━━━━━━━━━━━\u001b[0m\u001b[37m\u001b[0m \u001b[1m1s\u001b[0m 8ms/step - loss: 0.0159 - val_loss: 0.0123\n",
            "Epoch 4/100\n",
            "\u001b[1m73/73\u001b[0m \u001b[32m━━━━━━━━━━━━━━━━━━━━\u001b[0m\u001b[37m\u001b[0m \u001b[1m1s\u001b[0m 9ms/step - loss: 0.0122 - val_loss: 0.0122\n",
            "Epoch 5/100\n",
            "\u001b[1m73/73\u001b[0m \u001b[32m━━━━━━━━━━━━━━━━━━━━\u001b[0m\u001b[37m\u001b[0m \u001b[1m1s\u001b[0m 9ms/step - loss: 0.0094 - val_loss: 0.0094\n",
            "Epoch 6/100\n",
            "\u001b[1m73/73\u001b[0m \u001b[32m━━━━━━━━━━━━━━━━━━━━\u001b[0m\u001b[37m\u001b[0m \u001b[1m1s\u001b[0m 9ms/step - loss: 0.0079 - val_loss: 0.0069\n",
            "Epoch 7/100\n",
            "\u001b[1m73/73\u001b[0m \u001b[32m━━━━━━━━━━━━━━━━━━━━\u001b[0m\u001b[37m\u001b[0m \u001b[1m1s\u001b[0m 9ms/step - loss: 0.0067 - val_loss: 0.0056\n",
            "Epoch 8/100\n",
            "\u001b[1m73/73\u001b[0m \u001b[32m━━━━━━━━━━━━━━━━━━━━\u001b[0m\u001b[37m\u001b[0m \u001b[1m1s\u001b[0m 10ms/step - loss: 0.0058 - val_loss: 0.0053\n",
            "Epoch 9/100\n",
            "\u001b[1m73/73\u001b[0m \u001b[32m━━━━━━━━━━━━━━━━━━━━\u001b[0m\u001b[37m\u001b[0m \u001b[1m2s\u001b[0m 14ms/step - loss: 0.0048 - val_loss: 0.0040\n",
            "Epoch 10/100\n",
            "\u001b[1m73/73\u001b[0m \u001b[32m━━━━━━━━━━━━━━━━━━━━\u001b[0m\u001b[37m\u001b[0m \u001b[1m1s\u001b[0m 12ms/step - loss: 0.0045 - val_loss: 0.0038\n",
            "Epoch 11/100\n",
            "\u001b[1m73/73\u001b[0m \u001b[32m━━━━━━━━━━━━━━━━━━━━\u001b[0m\u001b[37m\u001b[0m \u001b[1m1s\u001b[0m 9ms/step - loss: 0.0040 - val_loss: 0.0042\n",
            "Epoch 12/100\n",
            "\u001b[1m73/73\u001b[0m \u001b[32m━━━━━━━━━━━━━━━━━━━━\u001b[0m\u001b[37m\u001b[0m \u001b[1m1s\u001b[0m 9ms/step - loss: 0.0036 - val_loss: 0.0031\n",
            "Epoch 13/100\n",
            "\u001b[1m73/73\u001b[0m \u001b[32m━━━━━━━━━━━━━━━━━━━━\u001b[0m\u001b[37m\u001b[0m \u001b[1m1s\u001b[0m 10ms/step - loss: 0.0034 - val_loss: 0.0045\n",
            "Epoch 14/100\n",
            "\u001b[1m73/73\u001b[0m \u001b[32m━━━━━━━━━━━━━━━━━━━━\u001b[0m\u001b[37m\u001b[0m \u001b[1m1s\u001b[0m 11ms/step - loss: 0.0031 - val_loss: 0.0027\n",
            "Epoch 15/100\n",
            "\u001b[1m73/73\u001b[0m \u001b[32m━━━━━━━━━━━━━━━━━━━━\u001b[0m\u001b[37m\u001b[0m \u001b[1m1s\u001b[0m 9ms/step - loss: 0.0030 - val_loss: 0.0024\n",
            "Epoch 16/100\n",
            "\u001b[1m73/73\u001b[0m \u001b[32m━━━━━━━━━━━━━━━━━━━━\u001b[0m\u001b[37m\u001b[0m \u001b[1m1s\u001b[0m 8ms/step - loss: 0.0029 - val_loss: 0.0024\n",
            "Epoch 17/100\n",
            "\u001b[1m73/73\u001b[0m \u001b[32m━━━━━━━━━━━━━━━━━━━━\u001b[0m\u001b[37m\u001b[0m \u001b[1m1s\u001b[0m 9ms/step - loss: 0.0029 - val_loss: 0.0029\n",
            "Epoch 18/100\n",
            "\u001b[1m73/73\u001b[0m \u001b[32m━━━━━━━━━━━━━━━━━━━━\u001b[0m\u001b[37m\u001b[0m \u001b[1m1s\u001b[0m 9ms/step - loss: 0.0026 - val_loss: 0.0023\n",
            "Epoch 19/100\n",
            "\u001b[1m73/73\u001b[0m \u001b[32m━━━━━━━━━━━━━━━━━━━━\u001b[0m\u001b[37m\u001b[0m \u001b[1m1s\u001b[0m 10ms/step - loss: 0.0025 - val_loss: 0.0025\n",
            "Epoch 20/100\n",
            "\u001b[1m73/73\u001b[0m \u001b[32m━━━━━━━━━━━━━━━━━━━━\u001b[0m\u001b[37m\u001b[0m \u001b[1m1s\u001b[0m 9ms/step - loss: 0.0024 - val_loss: 0.0022\n",
            "Epoch 21/100\n",
            "\u001b[1m73/73\u001b[0m \u001b[32m━━━━━━━━━━━━━━━━━━━━\u001b[0m\u001b[37m\u001b[0m \u001b[1m2s\u001b[0m 13ms/step - loss: 0.0024 - val_loss: 0.0022\n",
            "Epoch 22/100\n",
            "\u001b[1m73/73\u001b[0m \u001b[32m━━━━━━━━━━━━━━━━━━━━\u001b[0m\u001b[37m\u001b[0m \u001b[1m1s\u001b[0m 15ms/step - loss: 0.0024 - val_loss: 0.0024\n",
            "Epoch 23/100\n",
            "\u001b[1m73/73\u001b[0m \u001b[32m━━━━━━━━━━━━━━━━━━━━\u001b[0m\u001b[37m\u001b[0m \u001b[1m1s\u001b[0m 9ms/step - loss: 0.0024 - val_loss: 0.0019\n",
            "Epoch 24/100\n",
            "\u001b[1m73/73\u001b[0m \u001b[32m━━━━━━━━━━━━━━━━━━━━\u001b[0m\u001b[37m\u001b[0m \u001b[1m1s\u001b[0m 8ms/step - loss: 0.0021 - val_loss: 0.0022\n",
            "Epoch 25/100\n",
            "\u001b[1m73/73\u001b[0m \u001b[32m━━━━━━━━━━━━━━━━━━━━\u001b[0m\u001b[37m\u001b[0m \u001b[1m1s\u001b[0m 9ms/step - loss: 0.0021 - val_loss: 0.0018\n",
            "Epoch 26/100\n",
            "\u001b[1m73/73\u001b[0m \u001b[32m━━━━━━━━━━━━━━━━━━━━\u001b[0m\u001b[37m\u001b[0m \u001b[1m1s\u001b[0m 9ms/step - loss: 0.0020 - val_loss: 0.0025\n",
            "Epoch 27/100\n",
            "\u001b[1m73/73\u001b[0m \u001b[32m━━━━━━━━━━━━━━━━━━━━\u001b[0m\u001b[37m\u001b[0m \u001b[1m1s\u001b[0m 9ms/step - loss: 0.0018 - val_loss: 0.0020\n",
            "Epoch 28/100\n",
            "\u001b[1m73/73\u001b[0m \u001b[32m━━━━━━━━━━━━━━━━━━━━\u001b[0m\u001b[37m\u001b[0m \u001b[1m1s\u001b[0m 9ms/step - loss: 0.0019 - val_loss: 0.0016\n",
            "Epoch 29/100\n",
            "\u001b[1m73/73\u001b[0m \u001b[32m━━━━━━━━━━━━━━━━━━━━\u001b[0m\u001b[37m\u001b[0m \u001b[1m1s\u001b[0m 9ms/step - loss: 0.0019 - val_loss: 0.0022\n",
            "Epoch 30/100\n",
            "\u001b[1m73/73\u001b[0m \u001b[32m━━━━━━━━━━━━━━━━━━━━\u001b[0m\u001b[37m\u001b[0m \u001b[1m1s\u001b[0m 9ms/step - loss: 0.0022 - val_loss: 0.0016\n",
            "Epoch 31/100\n",
            "\u001b[1m73/73\u001b[0m \u001b[32m━━━━━━━━━━━━━━━━━━━━\u001b[0m\u001b[37m\u001b[0m \u001b[1m1s\u001b[0m 9ms/step - loss: 0.0018 - val_loss: 0.0016\n",
            "Epoch 32/100\n",
            "\u001b[1m73/73\u001b[0m \u001b[32m━━━━━━━━━━━━━━━━━━━━\u001b[0m\u001b[37m\u001b[0m \u001b[1m1s\u001b[0m 9ms/step - loss: 0.0019 - val_loss: 0.0015\n",
            "Epoch 33/100\n",
            "\u001b[1m73/73\u001b[0m \u001b[32m━━━━━━━━━━━━━━━━━━━━\u001b[0m\u001b[37m\u001b[0m \u001b[1m2s\u001b[0m 13ms/step - loss: 0.0021 - val_loss: 0.0015\n",
            "Epoch 34/100\n",
            "\u001b[1m73/73\u001b[0m \u001b[32m━━━━━━━━━━━━━━━━━━━━\u001b[0m\u001b[37m\u001b[0m \u001b[1m1s\u001b[0m 14ms/step - loss: 0.0019 - val_loss: 0.0015\n",
            "Epoch 35/100\n",
            "\u001b[1m73/73\u001b[0m \u001b[32m━━━━━━━━━━━━━━━━━━━━\u001b[0m\u001b[37m\u001b[0m \u001b[1m1s\u001b[0m 9ms/step - loss: 0.0018 - val_loss: 0.0017\n",
            "Epoch 36/100\n",
            "\u001b[1m73/73\u001b[0m \u001b[32m━━━━━━━━━━━━━━━━━━━━\u001b[0m\u001b[37m\u001b[0m \u001b[1m1s\u001b[0m 8ms/step - loss: 0.0018 - val_loss: 0.0015\n",
            "Epoch 37/100\n",
            "\u001b[1m73/73\u001b[0m \u001b[32m━━━━━━━━━━━━━━━━━━━━\u001b[0m\u001b[37m\u001b[0m \u001b[1m1s\u001b[0m 8ms/step - loss: 0.0018 - val_loss: 0.0028\n",
            "Epoch 38/100\n",
            "\u001b[1m73/73\u001b[0m \u001b[32m━━━━━━━━━━━━━━━━━━━━\u001b[0m\u001b[37m\u001b[0m \u001b[1m1s\u001b[0m 9ms/step - loss: 0.0017 - val_loss: 0.0014\n",
            "Epoch 39/100\n",
            "\u001b[1m73/73\u001b[0m \u001b[32m━━━━━━━━━━━━━━━━━━━━\u001b[0m\u001b[37m\u001b[0m \u001b[1m1s\u001b[0m 9ms/step - loss: 0.0016 - val_loss: 0.0015\n",
            "Epoch 40/100\n",
            "\u001b[1m73/73\u001b[0m \u001b[32m━━━━━━━━━━━━━━━━━━━━\u001b[0m\u001b[37m\u001b[0m \u001b[1m1s\u001b[0m 9ms/step - loss: 0.0017 - val_loss: 0.0017\n",
            "Epoch 41/100\n",
            "\u001b[1m73/73\u001b[0m \u001b[32m━━━━━━━━━━━━━━━━━━━━\u001b[0m\u001b[37m\u001b[0m \u001b[1m1s\u001b[0m 9ms/step - loss: 0.0016 - val_loss: 0.0014\n",
            "Epoch 42/100\n",
            "\u001b[1m73/73\u001b[0m \u001b[32m━━━━━━━━━━━━━━━━━━━━\u001b[0m\u001b[37m\u001b[0m \u001b[1m1s\u001b[0m 9ms/step - loss: 0.0015 - val_loss: 0.0013\n",
            "Epoch 43/100\n",
            "\u001b[1m73/73\u001b[0m \u001b[32m━━━━━━━━━━━━━━━━━━━━\u001b[0m\u001b[37m\u001b[0m \u001b[1m1s\u001b[0m 9ms/step - loss: 0.0018 - val_loss: 0.0013\n",
            "Epoch 44/100\n",
            "\u001b[1m73/73\u001b[0m \u001b[32m━━━━━━━━━━━━━━━━━━━━\u001b[0m\u001b[37m\u001b[0m \u001b[1m1s\u001b[0m 9ms/step - loss: 0.0016 - val_loss: 0.0014\n",
            "Epoch 45/100\n",
            "\u001b[1m73/73\u001b[0m \u001b[32m━━━━━━━━━━━━━━━━━━━━\u001b[0m\u001b[37m\u001b[0m \u001b[1m1s\u001b[0m 9ms/step - loss: 0.0015 - val_loss: 0.0016\n",
            "Epoch 46/100\n",
            "\u001b[1m73/73\u001b[0m \u001b[32m━━━━━━━━━━━━━━━━━━━━\u001b[0m\u001b[37m\u001b[0m \u001b[1m2s\u001b[0m 13ms/step - loss: 0.0015 - val_loss: 0.0012\n",
            "Epoch 47/100\n",
            "\u001b[1m73/73\u001b[0m \u001b[32m━━━━━━━━━━━━━━━━━━━━\u001b[0m\u001b[37m\u001b[0m \u001b[1m1s\u001b[0m 13ms/step - loss: 0.0014 - val_loss: 0.0013\n",
            "Epoch 48/100\n",
            "\u001b[1m73/73\u001b[0m \u001b[32m━━━━━━━━━━━━━━━━━━━━\u001b[0m\u001b[37m\u001b[0m \u001b[1m1s\u001b[0m 14ms/step - loss: 0.0014 - val_loss: 0.0015\n",
            "Epoch 49/100\n",
            "\u001b[1m73/73\u001b[0m \u001b[32m━━━━━━━━━━━━━━━━━━━━\u001b[0m\u001b[37m\u001b[0m \u001b[1m1s\u001b[0m 9ms/step - loss: 0.0014 - val_loss: 0.0013\n",
            "Epoch 50/100\n",
            "\u001b[1m73/73\u001b[0m \u001b[32m━━━━━━━━━━━━━━━━━━━━\u001b[0m\u001b[37m\u001b[0m \u001b[1m1s\u001b[0m 9ms/step - loss: 0.0015 - val_loss: 0.0012\n",
            "Epoch 51/100\n",
            "\u001b[1m73/73\u001b[0m \u001b[32m━━━━━━━━━━━━━━━━━━━━\u001b[0m\u001b[37m\u001b[0m \u001b[1m1s\u001b[0m 9ms/step - loss: 0.0014 - val_loss: 0.0013\n",
            "Epoch 52/100\n",
            "\u001b[1m73/73\u001b[0m \u001b[32m━━━━━━━━━━━━━━━━━━━━\u001b[0m\u001b[37m\u001b[0m \u001b[1m1s\u001b[0m 9ms/step - loss: 0.0015 - val_loss: 0.0012\n",
            "Epoch 53/100\n",
            "\u001b[1m73/73\u001b[0m \u001b[32m━━━━━━━━━━━━━━━━━━━━\u001b[0m\u001b[37m\u001b[0m \u001b[1m1s\u001b[0m 9ms/step - loss: 0.0015 - val_loss: 0.0015\n",
            "Epoch 54/100\n",
            "\u001b[1m73/73\u001b[0m \u001b[32m━━━━━━━━━━━━━━━━━━━━\u001b[0m\u001b[37m\u001b[0m \u001b[1m1s\u001b[0m 9ms/step - loss: 0.0014 - val_loss: 0.0020\n",
            "Epoch 55/100\n",
            "\u001b[1m73/73\u001b[0m \u001b[32m━━━━━━━━━━━━━━━━━━━━\u001b[0m\u001b[37m\u001b[0m \u001b[1m1s\u001b[0m 9ms/step - loss: 0.0014 - val_loss: 0.0011\n",
            "Epoch 56/100\n",
            "\u001b[1m73/73\u001b[0m \u001b[32m━━━━━━━━━━━━━━━━━━━━\u001b[0m\u001b[37m\u001b[0m \u001b[1m1s\u001b[0m 9ms/step - loss: 0.0012 - val_loss: 0.0011\n",
            "Epoch 57/100\n",
            "\u001b[1m73/73\u001b[0m \u001b[32m━━━━━━━━━━━━━━━━━━━━\u001b[0m\u001b[37m\u001b[0m \u001b[1m1s\u001b[0m 9ms/step - loss: 0.0013 - val_loss: 0.0012\n",
            "Epoch 58/100\n",
            "\u001b[1m73/73\u001b[0m \u001b[32m━━━━━━━━━━━━━━━━━━━━\u001b[0m\u001b[37m\u001b[0m \u001b[1m1s\u001b[0m 9ms/step - loss: 0.0014 - val_loss: 0.0025\n",
            "Epoch 59/100\n",
            "\u001b[1m73/73\u001b[0m \u001b[32m━━━━━━━━━━━━━━━━━━━━\u001b[0m\u001b[37m\u001b[0m \u001b[1m1s\u001b[0m 10ms/step - loss: 0.0012 - val_loss: 0.0012\n",
            "Epoch 60/100\n",
            "\u001b[1m73/73\u001b[0m \u001b[32m━━━━━━━━━━━━━━━━━━━━\u001b[0m\u001b[37m\u001b[0m \u001b[1m1s\u001b[0m 13ms/step - loss: 0.0015 - val_loss: 0.0014\n",
            "Epoch 61/100\n",
            "\u001b[1m73/73\u001b[0m \u001b[32m━━━━━━━━━━━━━━━━━━━━\u001b[0m\u001b[37m\u001b[0m \u001b[1m2s\u001b[0m 23ms/step - loss: 0.0013 - val_loss: 0.0018\n",
            "Epoch 62/100\n",
            "\u001b[1m73/73\u001b[0m \u001b[32m━━━━━━━━━━━━━━━━━━━━\u001b[0m\u001b[37m\u001b[0m \u001b[1m1s\u001b[0m 16ms/step - loss: 0.0013 - val_loss: 0.0012\n",
            "Epoch 63/100\n",
            "\u001b[1m73/73\u001b[0m \u001b[32m━━━━━━━━━━━━━━━━━━━━\u001b[0m\u001b[37m\u001b[0m \u001b[1m1s\u001b[0m 14ms/step - loss: 0.0014 - val_loss: 0.0012\n",
            "Epoch 64/100\n",
            "\u001b[1m73/73\u001b[0m \u001b[32m━━━━━━━━━━━━━━━━━━━━\u001b[0m\u001b[37m\u001b[0m \u001b[1m1s\u001b[0m 9ms/step - loss: 0.0014 - val_loss: 0.0016\n",
            "Epoch 65/100\n",
            "\u001b[1m73/73\u001b[0m \u001b[32m━━━━━━━━━━━━━━━━━━━━\u001b[0m\u001b[37m\u001b[0m \u001b[1m1s\u001b[0m 9ms/step - loss: 0.0013 - val_loss: 0.0012\n",
            "Epoch 66/100\n",
            "\u001b[1m73/73\u001b[0m \u001b[32m━━━━━━━━━━━━━━━━━━━━\u001b[0m\u001b[37m\u001b[0m \u001b[1m1s\u001b[0m 9ms/step - loss: 0.0013 - val_loss: 0.0011\n",
            "Epoch 67/100\n",
            "\u001b[1m73/73\u001b[0m \u001b[32m━━━━━━━━━━━━━━━━━━━━\u001b[0m\u001b[37m\u001b[0m \u001b[1m1s\u001b[0m 9ms/step - loss: 0.0013 - val_loss: 0.0011\n",
            "Epoch 68/100\n",
            "\u001b[1m73/73\u001b[0m \u001b[32m━━━━━━━━━━━━━━━━━━━━\u001b[0m\u001b[37m\u001b[0m \u001b[1m1s\u001b[0m 9ms/step - loss: 0.0012 - val_loss: 0.0014\n",
            "Epoch 69/100\n",
            "\u001b[1m73/73\u001b[0m \u001b[32m━━━━━━━━━━━━━━━━━━━━\u001b[0m\u001b[37m\u001b[0m \u001b[1m1s\u001b[0m 9ms/step - loss: 0.0013 - val_loss: 0.0013\n",
            "Epoch 70/100\n",
            "\u001b[1m73/73\u001b[0m \u001b[32m━━━━━━━━━━━━━━━━━━━━\u001b[0m\u001b[37m\u001b[0m \u001b[1m1s\u001b[0m 9ms/step - loss: 0.0013 - val_loss: 0.0013\n",
            "Epoch 71/100\n",
            "\u001b[1m73/73\u001b[0m \u001b[32m━━━━━━━━━━━━━━━━━━━━\u001b[0m\u001b[37m\u001b[0m \u001b[1m2s\u001b[0m 13ms/step - loss: 0.0012 - val_loss: 0.0011\n",
            "Epoch 72/100\n",
            "\u001b[1m73/73\u001b[0m \u001b[32m━━━━━━━━━━━━━━━━━━━━\u001b[0m\u001b[37m\u001b[0m \u001b[1m1s\u001b[0m 14ms/step - loss: 0.0012 - val_loss: 0.0010\n",
            "Epoch 73/100\n",
            "\u001b[1m73/73\u001b[0m \u001b[32m━━━━━━━━━━━━━━━━━━━━\u001b[0m\u001b[37m\u001b[0m \u001b[1m1s\u001b[0m 11ms/step - loss: 0.0011 - val_loss: 0.0011\n",
            "Epoch 74/100\n",
            "\u001b[1m73/73\u001b[0m \u001b[32m━━━━━━━━━━━━━━━━━━━━\u001b[0m\u001b[37m\u001b[0m \u001b[1m1s\u001b[0m 9ms/step - loss: 0.0012 - val_loss: 0.0014\n",
            "Epoch 75/100\n",
            "\u001b[1m73/73\u001b[0m \u001b[32m━━━━━━━━━━━━━━━━━━━━\u001b[0m\u001b[37m\u001b[0m \u001b[1m1s\u001b[0m 9ms/step - loss: 0.0012 - val_loss: 0.0016\n",
            "Epoch 76/100\n",
            "\u001b[1m73/73\u001b[0m \u001b[32m━━━━━━━━━━━━━━━━━━━━\u001b[0m\u001b[37m\u001b[0m \u001b[1m1s\u001b[0m 10ms/step - loss: 0.0012 - val_loss: 0.0010\n",
            "Epoch 77/100\n",
            "\u001b[1m73/73\u001b[0m \u001b[32m━━━━━━━━━━━━━━━━━━━━\u001b[0m\u001b[37m\u001b[0m \u001b[1m1s\u001b[0m 9ms/step - loss: 0.0012 - val_loss: 0.0011\n",
            "Epoch 78/100\n",
            "\u001b[1m73/73\u001b[0m \u001b[32m━━━━━━━━━━━━━━━━━━━━\u001b[0m\u001b[37m\u001b[0m \u001b[1m1s\u001b[0m 9ms/step - loss: 0.0011 - val_loss: 0.0021\n",
            "Epoch 79/100\n",
            "\u001b[1m73/73\u001b[0m \u001b[32m━━━━━━━━━━━━━━━━━━━━\u001b[0m\u001b[37m\u001b[0m \u001b[1m1s\u001b[0m 9ms/step - loss: 0.0011 - val_loss: 0.0021\n",
            "Epoch 80/100\n",
            "\u001b[1m73/73\u001b[0m \u001b[32m━━━━━━━━━━━━━━━━━━━━\u001b[0m\u001b[37m\u001b[0m \u001b[1m1s\u001b[0m 9ms/step - loss: 0.0013 - val_loss: 0.0012\n",
            "Epoch 81/100\n",
            "\u001b[1m73/73\u001b[0m \u001b[32m━━━━━━━━━━━━━━━━━━━━\u001b[0m\u001b[37m\u001b[0m \u001b[1m1s\u001b[0m 9ms/step - loss: 0.0012 - val_loss: 9.4107e-04\n",
            "Epoch 82/100\n",
            "\u001b[1m73/73\u001b[0m \u001b[32m━━━━━━━━━━━━━━━━━━━━\u001b[0m\u001b[37m\u001b[0m \u001b[1m1s\u001b[0m 9ms/step - loss: 0.0013 - val_loss: 9.8172e-04\n",
            "Epoch 83/100\n",
            "\u001b[1m73/73\u001b[0m \u001b[32m━━━━━━━━━━━━━━━━━━━━\u001b[0m\u001b[37m\u001b[0m \u001b[1m1s\u001b[0m 9ms/step - loss: 0.0011 - val_loss: 9.3539e-04\n",
            "Epoch 84/100\n",
            "\u001b[1m73/73\u001b[0m \u001b[32m━━━━━━━━━━━━━━━━━━━━\u001b[0m\u001b[37m\u001b[0m \u001b[1m1s\u001b[0m 11ms/step - loss: 0.0011 - val_loss: 0.0010\n",
            "Epoch 85/100\n",
            "\u001b[1m73/73\u001b[0m \u001b[32m━━━━━━━━━━━━━━━━━━━━\u001b[0m\u001b[37m\u001b[0m \u001b[1m1s\u001b[0m 14ms/step - loss: 0.0012 - val_loss: 0.0019\n",
            "Epoch 86/100\n",
            "\u001b[1m73/73\u001b[0m \u001b[32m━━━━━━━━━━━━━━━━━━━━\u001b[0m\u001b[37m\u001b[0m \u001b[1m1s\u001b[0m 14ms/step - loss: 0.0011 - val_loss: 9.3414e-04\n",
            "Epoch 87/100\n",
            "\u001b[1m73/73\u001b[0m \u001b[32m━━━━━━━━━━━━━━━━━━━━\u001b[0m\u001b[37m\u001b[0m \u001b[1m1s\u001b[0m 9ms/step - loss: 0.0011 - val_loss: 0.0010\n",
            "Epoch 88/100\n",
            "\u001b[1m73/73\u001b[0m \u001b[32m━━━━━━━━━━━━━━━━━━━━\u001b[0m\u001b[37m\u001b[0m \u001b[1m1s\u001b[0m 9ms/step - loss: 0.0011 - val_loss: 9.2940e-04\n",
            "Epoch 89/100\n",
            "\u001b[1m73/73\u001b[0m \u001b[32m━━━━━━━━━━━━━━━━━━━━\u001b[0m\u001b[37m\u001b[0m \u001b[1m1s\u001b[0m 9ms/step - loss: 0.0010 - val_loss: 9.1103e-04\n",
            "Epoch 90/100\n",
            "\u001b[1m73/73\u001b[0m \u001b[32m━━━━━━━━━━━━━━━━━━━━\u001b[0m\u001b[37m\u001b[0m \u001b[1m1s\u001b[0m 9ms/step - loss: 0.0011 - val_loss: 0.0011\n",
            "Epoch 91/100\n",
            "\u001b[1m73/73\u001b[0m \u001b[32m━━━━━━━━━━━━━━━━━━━━\u001b[0m\u001b[37m\u001b[0m \u001b[1m1s\u001b[0m 9ms/step - loss: 0.0010 - val_loss: 8.8021e-04\n",
            "Epoch 92/100\n",
            "\u001b[1m73/73\u001b[0m \u001b[32m━━━━━━━━━━━━━━━━━━━━\u001b[0m\u001b[37m\u001b[0m \u001b[1m1s\u001b[0m 9ms/step - loss: 0.0011 - val_loss: 9.2280e-04\n",
            "Epoch 93/100\n",
            "\u001b[1m73/73\u001b[0m \u001b[32m━━━━━━━━━━━━━━━━━━━━\u001b[0m\u001b[37m\u001b[0m \u001b[1m1s\u001b[0m 9ms/step - loss: 0.0011 - val_loss: 0.0011\n",
            "Epoch 94/100\n",
            "\u001b[1m73/73\u001b[0m \u001b[32m━━━━━━━━━━━━━━━━━━━━\u001b[0m\u001b[37m\u001b[0m \u001b[1m1s\u001b[0m 9ms/step - loss: 0.0011 - val_loss: 9.9382e-04\n",
            "Epoch 95/100\n",
            "\u001b[1m73/73\u001b[0m \u001b[32m━━━━━━━━━━━━━━━━━━━━\u001b[0m\u001b[37m\u001b[0m \u001b[1m1s\u001b[0m 9ms/step - loss: 0.0011 - val_loss: 9.0504e-04\n",
            "Epoch 96/100\n",
            "\u001b[1m73/73\u001b[0m \u001b[32m━━━━━━━━━━━━━━━━━━━━\u001b[0m\u001b[37m\u001b[0m \u001b[1m1s\u001b[0m 9ms/step - loss: 0.0011 - val_loss: 0.0010\n",
            "Epoch 97/100\n",
            "\u001b[1m73/73\u001b[0m \u001b[32m━━━━━━━━━━━━━━━━━━━━\u001b[0m\u001b[37m\u001b[0m \u001b[1m1s\u001b[0m 12ms/step - loss: 0.0011 - val_loss: 8.6162e-04\n",
            "Epoch 98/100\n",
            "\u001b[1m73/73\u001b[0m \u001b[32m━━━━━━━━━━━━━━━━━━━━\u001b[0m\u001b[37m\u001b[0m \u001b[1m1s\u001b[0m 13ms/step - loss: 0.0012 - val_loss: 0.0013\n",
            "Epoch 99/100\n",
            "\u001b[1m73/73\u001b[0m \u001b[32m━━━━━━━━━━━━━━━━━━━━\u001b[0m\u001b[37m\u001b[0m \u001b[1m1s\u001b[0m 14ms/step - loss: 0.0011 - val_loss: 8.7086e-04\n",
            "Epoch 100/100\n",
            "\u001b[1m73/73\u001b[0m \u001b[32m━━━━━━━━━━━━━━━━━━━━\u001b[0m\u001b[37m\u001b[0m \u001b[1m1s\u001b[0m 9ms/step - loss: 0.0011 - val_loss: 0.0013\n"
          ]
        }
      ],
      "source": [
        "# Build the LSTM model\n",
        "LSTM_model = Sequential()\n",
        "LSTM_model.add(LSTM(units=50, return_sequences=True, input_shape=(X_train.shape[1], X_train.shape[2]), kernel_regularizer=l2(0.001)))\n",
        "LSTM_model.add(Dropout(0.2))\n",
        "LSTM_model.add(LSTM(units=64, return_sequences=True))\n",
        "LSTM_model.add(Dropout(0.2))\n",
        "LSTM_model.add(LSTM(units=32, return_sequences=False))\n",
        "LSTM_model.add(Dense(units=50, activation='relu'))\n",
        "LSTM_model.add(Dense(units=10, activation='relu'))\n",
        "LSTM_model.add(Dense(units=1))\n",
        "\n",
        "# Compile the model\n",
        "optimizer = tf.keras.optimizers.RMSprop(learning_rate=0.0005)\n",
        "LSTM_model.compile(optimizer=optimizer, loss='mean_squared_error')\n",
        "\n",
        "# Add early stopping based on validation loss\n",
        "early_stopping = EarlyStopping(monitor='val_loss', patience=10, restore_best_weights=True)\n",
        "\n",
        "# Train the model\n",
        "history = LSTM_model.fit(X_train, y_train, epochs=100, batch_size=32, validation_split=0.2, callbacks=[early_stopping])  "
      ]
    },
    {
      "cell_type": "markdown",
      "metadata": {
        "id": "9nvia4fkDes9"
      },
      "source": [
        "**MODEL EVALUATION**"
      ]
    },
    {
      "cell_type": "code",
      "execution_count": 23,
      "metadata": {
        "colab": {
          "base_uri": "https://localhost:8080/",
          "height": 487
        },
        "id": "mInT_M7klpqc",
        "outputId": "e5416e6a-af20-418a-bfcc-266ce03f06d7"
      },
      "outputs": [
        {
          "data": {
            "image/png": "[encoded data removed]",
            "text/plain": [
              "<Figure size 1000x500 with 1 Axes>"
            ]
          },
          "metadata": {},
          "output_type": "display_data"
        }
      ],
      "source": [
        "plt.figure(figsize=(10, 5))\n",
        "plt.plot(history.history['loss'], label='Training Loss')\n",
        "plt.plot(history.history['val_loss'], label='Validation Loss')\n",
        "plt.title('Model Loss')\n",
        "plt.xlabel('Epoch')\n",
        "plt.ylabel('Loss')\n",
        "plt.legend()\n",
        "plt.show()"
      ]
    },
    {
      "cell_type": "markdown",
      "metadata": {
        "id": "YKAX16D0Dl2R"
      },
      "source": [
        "Finally, we show how to make predictions on next day closing price."
      ]
    },
    {
      "cell_type": "code",
      "execution_count": 26,
      "metadata": {
        "colab": {
          "base_uri": "https://localhost:8080/"
        },
        "id": "1JYceDeY5lIr",
        "outputId": "921d5be5-fcf1-406f-ec11-dc07f73f5550"
      },
      "outputs": [
        {
          "name": "stdout",
          "output_type": "stream",
          "text": [
            "Sequence shape: (30, 13)\n",
            "\u001b[1m1/1\u001b[0m \u001b[32m━━━━━━━━━━━━━━━━━━━━\u001b[0m\u001b[37m\u001b[0m \u001b[1m0s\u001b[0m 20ms/step\n",
            "Predicted closing price for the next day: 67803.8203125\n"
          ]
        }
      ],
      "source": [
        "# Define the number of steps\n",
        "n_steps = 30\n",
        "\n",
        "# Calculate the end index\n",
        "end_index = len(features_scaled) - 1  \n",
        "\n",
        "# Calculate the start index to include `n_steps` rows\n",
        "start_index = end_index - n_steps + 1 \n",
        "\n",
        "# Extract the sequence of `n_steps` rows\n",
        "sequence = features_scaled[start_index:end_index + 1]  \n",
        "\n",
        "# Check the shape of the sequence\n",
        "print(f'Sequence shape: {sequence.shape}')\n",
        "\n",
        "# Prepare the data point for the model\n",
        "# Ensure the shape is (1, n_steps, number_of_features)\n",
        "data_point = np.expand_dims(sequence, axis=0)\n",
        "\n",
        "# Make the prediction\n",
        "predicted_scaled = LSTM_model.predict(data_point)\n",
        "\n",
        "# Reshape predicted_scaled to (1, 1) before inverse transforming\n",
        "predicted_scaled_reshaped = predicted_scaled.reshape(-1, 1)\n",
        "\n",
        "# Inverse transform the prediction to get the original scale\n",
        "predicted = scaler.inverse_transform(predicted_scaled_reshaped)\n",
        "\n",
        "print(f'Predicted closing price for the next day: {predicted[0][0]}')"
      ]
    }
  ],
  "metadata": {
    "accelerator": "GPU",
    "colab": {
      "gpuType": "T4",
      "provenance": []
    },
    "kernelspec": {
      "display_name": "Python 3",
      "name": "python3"
    },
    "language_info": {
      "name": "python"
    }
  },
  "nbformat": 4,
  "nbformat_minor": 0
}
